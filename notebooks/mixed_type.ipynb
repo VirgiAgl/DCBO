{
 "metadata": {
  "language_info": {
   "codemirror_mode": {
    "name": "ipython",
    "version": 3
   },
   "file_extension": ".py",
   "mimetype": "text/x-python",
   "name": "python",
   "nbconvert_exporter": "python",
   "pygments_lexer": "ipython3",
   "version": "3.7.10"
  },
  "orig_nbformat": 2,
  "kernelspec": {
   "name": "python3710jvsc74a57bd0164ab3599252216efa3ff800aa9e9b83ffb03b6491450900b2a6d3a64681b37e",
   "display_name": "Python 3.7.10 64-bit ('scibo': conda)"
  }
 },
 "nbformat": 4,
 "nbformat_minor": 2,
 "cells": [
  {
   "source": [
    "# DCBO + 'Bayesian Optimisation over Multiple Continuous and Categorical Inputs'"
   ],
   "cell_type": "markdown",
   "metadata": {}
  },
  {
   "cell_type": "code",
   "execution_count": 1,
   "metadata": {},
   "outputs": [],
   "source": [
    "%load_ext autoreload\n",
    "%autoreload 2\n",
    "import numpy as np\n",
    "import pandas as pd\n",
    "import sys\n",
    "import matplotlib.pyplot as plt\n",
    "from networkx import nx_agraph\n",
    "import pygraphviz\n",
    "from copy import deepcopy\n",
    "# sys.path.append(\"../src/\")\n",
    "sys.path.append(\"..\")"
   ]
  },
  {
   "cell_type": "code",
   "execution_count": 3,
   "metadata": {},
   "outputs": [],
   "source": [
    "from src.test_functions.synfunc_1d import obj_func_bo\n",
    "from src.mab_cons.OnehotEnconding import OnehotEncoding"
   ]
  },
  {
   "source": [
    "To optimize 2d synthetic function (1 categorical + 1 continuous) with the number of arms C=6 (fixed) and the batch size=[1, 5, 10]."
   ],
   "cell_type": "markdown",
   "metadata": {}
  },
  {
   "source": [
    "To test:\n",
    "- Bayesian Optimization for Categorical and Category-Specific Continuous Inputs *(need to make ordinal kernel)*\n",
    "- Dealing with Categorical and Integer-valued Variables in Bayesian Optimization with Gaussian Processes\n"
   ],
   "cell_type": "markdown",
   "metadata": {}
  },
  {
   "cell_type": "code",
   "execution_count": 48,
   "metadata": {},
   "outputs": [],
   "source": [
    "import numpy as np\n",
    "\n",
    "# Transforming discrete values according to the method by Merchan and Lobato.\n",
    "\n",
    "\n",
    "def twogaussian(x, shifter=0.0):\n",
    "    y = (\n",
    "        np.exp(-((x - (shifter * 0.1) - 2) ** 2))\n",
    "        + np.exp(-((x - (shifter * 0.1) - 6) ** 2) / 10)\n",
    "        + 1 / ((x + (shifter * 0.1)) ** 2 + 1)\n",
    "    )\n",
    "\n",
    "    return y.reshape(-1, 1) + shifter  # Min=0.2, Max=1.4\n",
    "\n",
    "\n",
    "# objective function for BO-based methods\n",
    "def obj_func_bo(arm, x):\n",
    "    # maximize function\n",
    "    auc = twogaussian(x, shifter=arm * 0.5)\n",
    "\n",
    "    return auc\n",
    "\n",
    "\n",
    "f = obj_func_bo\n",
    "\n",
    "c_bound_dim = 6\n",
    "x_bound_dim = 1\n",
    "x_bound = [-2.0, 10.0]\n",
    "\n",
    "trials = 10  # 10\n",
    "n_arm = c_bound_dim\n",
    "budget = 40  # 40\n",
    "batch_list = [1]  # [1, 5, 10]\n",
    "n_init = 2 # Number of initial points [per dimension]\n",
    "\n",
    "bounds_categorical_c = [\n",
    "    {\"name\": \"x{}\".format(d + 1), \"type\": \"continuous\", \"domain\": (0, 1)} for d in range(c_bound_dim)\n",
    "]\n",
    "bounds_categorical_x = [\n",
    "    {\"name\": \"x{}\".format(d + c_bound_dim + 1), \"type\": \"continuous\", \"domain\": (x_bound[0], x_bound[1])}\n",
    "    for d in range(x_bound_dim)\n",
    "]\n",
    "bounds = list(np.append(bounds_categorical_c, bounds_categorical_x))\n",
    "\n",
    "# Some conversions that happen inside the MAB_Cons class in Nguyen's implementation\n",
    "n_dim = len(bounds)\n",
    "\n",
    "n_init_point = n_arm * n_init\n",
    "Xinit_ker = np.zeros((n_init_point, n_dim))\n",
    "for c in range(n_arm):\n",
    "    # map to one-hot encoding\n",
    "    x1 = np.zeros(n_arm)\n",
    "    x1[c] = 1\n",
    "    for i in range(n_init):\n",
    "        x2 = np.array(\n",
    "            [np.random.uniform(bounds[d][\"domain\"][0], bounds[d][\"domain\"][1], 1)[0] for d in range(n_arm, n_dim)]\n",
    "        )\n",
    "        x = np.append(x1, x2)\n",
    "        Xinit_ker[i + c * n_init, :] = x\n",
    "\n",
    "Yinit_ker = []\n",
    "for i in range(n_init_point):\n",
    "    x = Xinit_ker[i, :]\n",
    "    # map one-hot encoding of categorical variable to arm index\n",
    "    arm = np.argmax(x[:n_arm])\n",
    "    y = f(arm, x[n_arm:])\n",
    "    Yinit_ker.append(y)"
   ]
  },
  {
   "cell_type": "code",
   "execution_count": 49,
   "metadata": {},
   "outputs": [
    {
     "output_type": "execute_result",
     "data": {
      "text/plain": [
       "[{'name': 'x1', 'type': 'continuous', 'domain': (0, 1)},\n",
       " {'name': 'x2', 'type': 'continuous', 'domain': (0, 1)},\n",
       " {'name': 'x3', 'type': 'continuous', 'domain': (0, 1)},\n",
       " {'name': 'x4', 'type': 'continuous', 'domain': (0, 1)},\n",
       " {'name': 'x5', 'type': 'continuous', 'domain': (0, 1)},\n",
       " {'name': 'x6', 'type': 'continuous', 'domain': (0, 1)},\n",
       " {'name': 'x7', 'type': 'continuous', 'domain': (-2.0, 10.0)}]"
      ]
     },
     "metadata": {},
     "execution_count": 49
    }
   ],
   "source": [
    "bounds"
   ]
  },
  {
   "cell_type": "code",
   "execution_count": 50,
   "metadata": {},
   "outputs": [
    {
     "output_type": "execute_result",
     "data": {
      "text/plain": [
       "(12, 7)"
      ]
     },
     "metadata": {},
     "execution_count": 50
    }
   ],
   "source": [
    "Xinit_ker.round(2).shape"
   ]
  },
  {
   "cell_type": "code",
   "execution_count": 51,
   "metadata": {},
   "outputs": [
    {
     "output_type": "execute_result",
     "data": {
      "text/plain": [
       "array([[ 1.  ,  0.  ,  0.  ,  0.  ,  0.  ,  0.  ,  2.34],\n",
       "       [ 1.  ,  0.  ,  0.  ,  0.  ,  0.  ,  0.  ,  6.61],\n",
       "       [ 0.  ,  1.  ,  0.  ,  0.  ,  0.  ,  0.  ,  5.77],\n",
       "       [ 0.  ,  1.  ,  0.  ,  0.  ,  0.  ,  0.  ,  5.95],\n",
       "       [ 0.  ,  0.  ,  1.  ,  0.  ,  0.  ,  0.  ,  4.72],\n",
       "       [ 0.  ,  0.  ,  1.  ,  0.  ,  0.  ,  0.  ,  6.71],\n",
       "       [ 0.  ,  0.  ,  0.  ,  1.  ,  0.  ,  0.  ,  9.29],\n",
       "       [ 0.  ,  0.  ,  0.  ,  1.  ,  0.  ,  0.  ,  9.77],\n",
       "       [ 0.  ,  0.  ,  0.  ,  0.  ,  1.  ,  0.  ,  6.05],\n",
       "       [ 0.  ,  0.  ,  0.  ,  0.  ,  1.  ,  0.  ,  5.88],\n",
       "       [ 0.  ,  0.  ,  0.  ,  0.  ,  0.  ,  1.  , -0.22],\n",
       "       [ 0.  ,  0.  ,  0.  ,  0.  ,  0.  ,  1.  ,  0.08]])"
      ]
     },
     "metadata": {},
     "execution_count": 51
    }
   ],
   "source": [
    "Xinit_ker.round(2)"
   ]
  },
  {
   "cell_type": "code",
   "execution_count": 52,
   "metadata": {},
   "outputs": [
    {
     "output_type": "execute_result",
     "data": {
      "text/plain": [
       "array([0.08276774])"
      ]
     },
     "metadata": {},
     "execution_count": 52
    }
   ],
   "source": [
    "# np.argmax(x[:n_arm])\n",
    "x[n_arm:]"
   ]
  },
  {
   "source": [
    "## Transform input in RBF kernal space"
   ],
   "cell_type": "markdown",
   "metadata": {}
  },
  {
   "source": [
    "### Categorical"
   ],
   "cell_type": "markdown",
   "metadata": {}
  },
  {
   "cell_type": "code",
   "execution_count": 53,
   "metadata": {},
   "outputs": [
    {
     "output_type": "execute_result",
     "data": {
      "text/plain": [
       "array([[ 1.  ,  0.  ,  0.  ,  0.  ,  0.  ,  0.  ,  2.34],\n",
       "       [ 1.  ,  0.  ,  0.  ,  0.  ,  0.  ,  0.  ,  6.61],\n",
       "       [ 0.  ,  1.  ,  0.  ,  0.  ,  0.  ,  0.  ,  5.77],\n",
       "       [ 0.  ,  1.  ,  0.  ,  0.  ,  0.  ,  0.  ,  5.95],\n",
       "       [ 0.  ,  0.  ,  1.  ,  0.  ,  0.  ,  0.  ,  4.72],\n",
       "       [ 0.  ,  0.  ,  1.  ,  0.  ,  0.  ,  0.  ,  6.71],\n",
       "       [ 0.  ,  0.  ,  0.  ,  1.  ,  0.  ,  0.  ,  9.29],\n",
       "       [ 0.  ,  0.  ,  0.  ,  1.  ,  0.  ,  0.  ,  9.77],\n",
       "       [ 0.  ,  0.  ,  0.  ,  0.  ,  1.  ,  0.  ,  6.05],\n",
       "       [ 0.  ,  0.  ,  0.  ,  0.  ,  1.  ,  0.  ,  5.88],\n",
       "       [ 0.  ,  0.  ,  0.  ,  0.  ,  0.  ,  1.  , -0.22],\n",
       "       [ 0.  ,  0.  ,  0.  ,  0.  ,  0.  ,  1.  ,  0.08]])"
      ]
     },
     "metadata": {},
     "execution_count": 53
    }
   ],
   "source": [
    "X = Xinit_ker\n",
    "X.round(2)"
   ]
  },
  {
   "cell_type": "code",
   "execution_count": 55,
   "metadata": {},
   "outputs": [
    {
     "output_type": "execute_result",
     "data": {
      "text/plain": [
       "array([[ 1.  ,  0.  ,  0.  ,  0.  ,  0.  ,  0.  ,  2.34],\n",
       "       [ 1.  ,  0.  ,  0.  ,  0.  ,  0.  ,  0.  ,  6.61],\n",
       "       [ 0.  ,  1.  ,  0.  ,  0.  ,  0.  ,  0.  ,  5.77],\n",
       "       [ 0.  ,  1.  ,  0.  ,  0.  ,  0.  ,  0.  ,  5.95],\n",
       "       [ 0.  ,  0.  ,  1.  ,  0.  ,  0.  ,  0.  ,  4.72],\n",
       "       [ 0.  ,  0.  ,  1.  ,  0.  ,  0.  ,  0.  ,  6.71],\n",
       "       [ 0.  ,  0.  ,  0.  ,  1.  ,  0.  ,  0.  ,  9.29],\n",
       "       [ 0.  ,  0.  ,  0.  ,  1.  ,  0.  ,  0.  ,  9.77],\n",
       "       [ 0.  ,  0.  ,  0.  ,  0.  ,  1.  ,  0.  ,  6.05],\n",
       "       [ 0.  ,  0.  ,  0.  ,  0.  ,  1.  ,  0.  ,  5.88],\n",
       "       [ 0.  ,  0.  ,  0.  ,  0.  ,  0.  ,  1.  , -0.22],\n",
       "       [ 0.  ,  0.  ,  0.  ,  0.  ,  0.  ,  1.  ,  0.08]])"
      ]
     },
     "metadata": {},
     "execution_count": 55
    }
   ],
   "source": [
    "def transform_to_one_hot(vector):\n",
    "    one_hot = np.zeros(len(vector))\n",
    "    active_val = np.argmax(vector)\n",
    "    one_hot[active_val] = 1\n",
    "    return one_hot\n",
    "\n",
    "categorical_dim = n_arm # Total number of categories in our categorical variable\n",
    "\n",
    "np.array([np.append(transform_to_one_hot(x_val[:categorical_dim]),x_val[categorical_dim:]) for x_val in X]).round(2)"
   ]
  },
  {
   "source": [
    "### Ordinal"
   ],
   "cell_type": "markdown",
   "metadata": {}
  },
  {
   "cell_type": "code",
   "execution_count": 58,
   "metadata": {},
   "outputs": [
    {
     "output_type": "execute_result",
     "data": {
      "text/plain": [
       "array([[ 0.        ,  2.3403384 ],\n",
       "       [ 7.        ,  6.60926197],\n",
       "       [ 4.        ,  5.77067366],\n",
       "       [ 0.        ,  5.9450693 ],\n",
       "       [ 2.        ,  4.71616478],\n",
       "       [ 7.        ,  6.71229473],\n",
       "       [ 9.        ,  9.28917361],\n",
       "       [ 4.        ,  9.76813244],\n",
       "       [ 6.        ,  6.05357254],\n",
       "       [ 0.        ,  5.88385259],\n",
       "       [ 1.        , -0.22055158],\n",
       "       [ 7.        ,  0.08276774]])"
      ]
     },
     "metadata": {},
     "execution_count": 58
    }
   ],
   "source": [
    "XX = np.hstack((np.random.randint(0,10,12).reshape(-1,1),X[:,-1].reshape(-1,1)))\n",
    "XX"
   ]
  },
  {
   "cell_type": "code",
   "execution_count": 60,
   "metadata": {},
   "outputs": [
    {
     "output_type": "execute_result",
     "data": {
      "text/plain": [
       "array([[ 0.        ,  2.3403384 ],\n",
       "       [ 7.        ,  6.60926197],\n",
       "       [ 4.        ,  5.77067366],\n",
       "       [ 0.        ,  5.9450693 ],\n",
       "       [ 2.        ,  4.71616478],\n",
       "       [ 7.        ,  6.71229473],\n",
       "       [ 9.        ,  9.28917361],\n",
       "       [ 4.        ,  9.76813244],\n",
       "       [ 6.        ,  6.05357254],\n",
       "       [ 0.        ,  5.88385259],\n",
       "       [ 1.        , -0.22055158],\n",
       "       [ 7.        ,  0.08276774]])"
      ]
     },
     "metadata": {},
     "execution_count": 60
    }
   ],
   "source": [
    "discrete_dim = 0\n",
    "np.array([np.append(np.around(x_val[:discrete_dim], 0), x_val[discrete_dim:]) for x_val in XX])"
   ]
  },
  {
   "cell_type": "code",
   "execution_count": 62,
   "metadata": {},
   "outputs": [
    {
     "output_type": "error",
     "ename": "TypeError",
     "evalue": "dot() missing 1 required positional argument: 'b'",
     "traceback": [
      "\u001b[0;31m---------------------------------------------------------------------------\u001b[0m",
      "\u001b[0;31mTypeError\u001b[0m                                 Traceback (most recent call last)",
      "\u001b[0;32m<ipython-input-62-85af4a989cb4>\u001b[0m in \u001b[0;36m<module>\u001b[0;34m\u001b[0m\n\u001b[1;32m      1\u001b[0m \u001b[0mXsq\u001b[0m \u001b[0;34m=\u001b[0m \u001b[0mnp\u001b[0m\u001b[0;34m.\u001b[0m\u001b[0msum\u001b[0m\u001b[0;34m(\u001b[0m\u001b[0mnp\u001b[0m\u001b[0;34m.\u001b[0m\u001b[0msquare\u001b[0m\u001b[0;34m(\u001b[0m\u001b[0mX\u001b[0m\u001b[0;34m)\u001b[0m\u001b[0;34m,\u001b[0m\u001b[0;36m1\u001b[0m\u001b[0;34m)\u001b[0m\u001b[0;34m\u001b[0m\u001b[0;34m\u001b[0m\u001b[0m\n\u001b[0;32m----> 2\u001b[0;31m \u001b[0mr2\u001b[0m \u001b[0;34m=\u001b[0m \u001b[0;34m-\u001b[0m\u001b[0;36m2.\u001b[0m\u001b[0;34m*\u001b[0m\u001b[0mnp\u001b[0m\u001b[0;34m.\u001b[0m\u001b[0mdot\u001b[0m\u001b[0;34m(\u001b[0m\u001b[0mX\u001b[0m\u001b[0;34m)\u001b[0m \u001b[0;34m+\u001b[0m \u001b[0;34m(\u001b[0m\u001b[0mXsq\u001b[0m\u001b[0;34m[\u001b[0m\u001b[0;34m:\u001b[0m\u001b[0;34m,\u001b[0m\u001b[0;32mNone\u001b[0m\u001b[0;34m]\u001b[0m \u001b[0;34m+\u001b[0m \u001b[0mXsq\u001b[0m\u001b[0;34m[\u001b[0m\u001b[0;32mNone\u001b[0m\u001b[0;34m,\u001b[0m\u001b[0;34m:\u001b[0m\u001b[0;34m]\u001b[0m\u001b[0;34m)\u001b[0m\u001b[0;34m\u001b[0m\u001b[0;34m\u001b[0m\u001b[0m\n\u001b[0m\u001b[1;32m      3\u001b[0m \u001b[0mutil\u001b[0m\u001b[0;34m.\u001b[0m\u001b[0mdiag\u001b[0m\u001b[0;34m.\u001b[0m\u001b[0mview\u001b[0m\u001b[0;34m(\u001b[0m\u001b[0mr2\u001b[0m\u001b[0;34m)\u001b[0m\u001b[0;34m[\u001b[0m\u001b[0;34m:\u001b[0m\u001b[0;34m,\u001b[0m\u001b[0;34m]\u001b[0m\u001b[0;34m=\u001b[0m \u001b[0;36m0.\u001b[0m \u001b[0;31m# force diagnoal to be zero: sometime numerically a little negative\u001b[0m\u001b[0;34m\u001b[0m\u001b[0;34m\u001b[0m\u001b[0m\n\u001b[1;32m      4\u001b[0m \u001b[0mr2\u001b[0m \u001b[0;34m=\u001b[0m \u001b[0mnp\u001b[0m\u001b[0;34m.\u001b[0m\u001b[0mclip\u001b[0m\u001b[0;34m(\u001b[0m\u001b[0mr2\u001b[0m\u001b[0;34m,\u001b[0m \u001b[0;36m0\u001b[0m\u001b[0;34m,\u001b[0m \u001b[0mnp\u001b[0m\u001b[0;34m.\u001b[0m\u001b[0minf\u001b[0m\u001b[0;34m)\u001b[0m\u001b[0;34m\u001b[0m\u001b[0;34m\u001b[0m\u001b[0m\n",
      "\u001b[0;32m<__array_function__ internals>\u001b[0m in \u001b[0;36mdot\u001b[0;34m(*args, **kwargs)\u001b[0m\n",
      "\u001b[0;31mTypeError\u001b[0m: dot() missing 1 required positional argument: 'b'"
     ]
    }
   ],
   "source": [
    "Xsq = np.sum(np.square(X),1)\n",
    "r2 = -2.*np.dot(X) + (Xsq[:,None] + Xsq[None,:])\n",
    "util.diag.view(r2)[:,]= 0. # force diagnoal to be zero: sometime numerically a little negative\n",
    "r2 = np.clip(r2, 0, np.inf)"
   ]
  }
 ]
}