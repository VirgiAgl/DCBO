{
 "cells": [
  {
   "cell_type": "markdown",
   "metadata": {},
   "source": [
    "# Stationay SCM and DAG (STAT.) from figure 1 in paper"
   ]
  },
  {
   "cell_type": "code",
   "execution_count": 10,
   "metadata": {},
   "outputs": [],
   "source": [
    "import sys\n",
    "sys.path.append(\"../src/\")\n",
    "sys.path.append(\"..\")\n",
    "\n",
    "from src.examples.example_setups import setup_stat_scm\n",
    "from src.utils.sequential_causal_functions import sequentially_sample_model\n",
    "\n",
    "# Models\n",
    "from src.methods.bo import BO\n",
    "from src.methods.cbo import CBO\n",
    "from src.methods.abo import ABO\n",
    "from src.methods.dcbo import DCBO\n"
   ]
  },
  {
   "cell_type": "markdown",
   "metadata": {},
   "source": [
    "## Sample SEM to get observational samples"
   ]
  },
  {
   "cell_type": "code",
   "execution_count": 11,
   "metadata": {},
   "outputs": [],
   "source": [
    "T = 3 # In this example, as in the paper, we consider three time-slices\n",
    "init_sem, sem, dag_view, dag  = setup_stat_scm(T=3)"
   ]
  },
  {
   "cell_type": "code",
   "execution_count": null,
   "metadata": {},
   "outputs": [],
   "source": [
    "# Number of independent samples per time-index\n",
    "observational_samples = sequentially_sample_model(initial_structural_equation_model,\n",
    "                                                  structural_equation_model,\n",
    "                                                  total_timesteps=3,\n",
    "                                                  sample_count=5,\n",
    "                                                  epsilon=None)"
   ]
  }
 ],
 "metadata": {
  "interpreter": {
   "hash": "aaa96eb265c32c2b50eaffc5e0bc3c80016276efa552bb99d04c94d0e8842f70"
  },
  "kernelspec": {
   "display_name": "Python 3.7.11 64-bit ('scibo': conda)",
   "name": "python3"
  },
  "language_info": {
   "codemirror_mode": {
    "name": "ipython",
    "version": 3
   },
   "file_extension": ".py",
   "mimetype": "text/x-python",
   "name": "python",
   "nbconvert_exporter": "python",
   "pygments_lexer": "ipython3",
   "version": "3.7.11"
  },
  "orig_nbformat": 4
 },
 "nbformat": 4,
 "nbformat_minor": 2
}
